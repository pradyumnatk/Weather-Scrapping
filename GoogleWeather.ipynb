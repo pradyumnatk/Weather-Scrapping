{
 "cells": [
  {
   "cell_type": "code",
   "execution_count": 1,
   "metadata": {},
   "outputs": [],
   "source": [
    "import pandas as pd\n",
    "import openpyxl\n",
    "import re\n",
    "import os\n",
    "from pathlib import Path\n",
    "import xlsxwriter\n",
    "import requests\n",
    "from requests_html import HTMLSession\n",
    "s = HTMLSession()"
   ]
  },
  {
   "cell_type": "markdown",
   "metadata": {},
   "source": [
    "## Google Weather Current Weather at Different Locations "
   ]
  },
  {
   "cell_type": "code",
   "execution_count": 2,
   "metadata": {},
   "outputs": [],
   "source": [
    "city = ['New York','Boston','Austin', 'Chicago','Denver','Portland','Los Angeles'] # can add other city names to get their weather info\n",
    "# City names must be added as they appear on google\n",
    "\n",
    "# Create empty lists to store vales and make a table later\n",
    "CityName=[]\n",
    "temp=[]\n",
    "humidity=[]\n",
    "precipitation=[]\n",
    "wind=[]\n",
    "weather=[]\n",
    "\n",
    "for i in range(0,len(city)):\n",
    "    query = city[i]                     # copy corresponding city name into variable \n",
    "\n",
    "# using 'f' in frot of a string makes it flexible to add other variables to the string   \n",
    "    url = f'https://www.google.com/search?q=weather+{query}'  # make url corresponding to particular city \n",
    "    r = s.get(url, headers={'User-Agent':'Mozilla/5.0 (Windows NT 10.0; Win64; x64) AppleWebKit/537.36 (KHTML, like Gecko) Chrome/106.0.0.0 Safari/537.36'}) \n",
    "    \n",
    "# while using html.find()  class is replaced with '.' and id is replaced with '#'\n",
    "# If you want to find a class or id  which is inside a main div class, then it must be seperated by \"space\"\n",
    "    \n",
    "    list = r.html.find('span.wob_t')  # gives list of all elements containing \"span and class=wob_t\"\n",
    "    t = list[0].text                  # Gives temp corresponding to Celsius\n",
    "    temp.append(t)\n",
    "\n",
    "    p = (r.html.find('div.wtsRwe span#wob_pp'))[0].text  # div class = \"wtsRwe\" and span id = \"wob_pp\"\n",
    "    precipitation.append(p)\n",
    "\n",
    "    h = (r.html.find('div.wtsRwe span#wob_hm'))[0].text \n",
    "    humidity.append(h)\n",
    "\n",
    "    #w = (r.html.find('div.wtsRwe span#wob_ws'))[0].text\n",
    "    #wind.append()\n",
    "\n",
    "    we = (r.html.find('div.VQF4g span#wob_dc'))[0].text\n",
    "    weather.append(we)\n",
    "    \n",
    "    CityName.append(query)    "
   ]
  },
  {
   "cell_type": "code",
   "execution_count": 3,
   "metadata": {},
   "outputs": [
    {
     "data": {
      "text/html": [
       "<div>\n",
       "<style scoped>\n",
       "    .dataframe tbody tr th:only-of-type {\n",
       "        vertical-align: middle;\n",
       "    }\n",
       "\n",
       "    .dataframe tbody tr th {\n",
       "        vertical-align: top;\n",
       "    }\n",
       "\n",
       "    .dataframe thead th {\n",
       "        text-align: right;\n",
       "    }\n",
       "</style>\n",
       "<table border=\"1\" class=\"dataframe\">\n",
       "  <thead>\n",
       "    <tr style=\"text-align: right;\">\n",
       "      <th></th>\n",
       "      <th>Location</th>\n",
       "      <th>Temperature °C</th>\n",
       "      <th>Precipitation</th>\n",
       "      <th>Humidity</th>\n",
       "      <th>Overall</th>\n",
       "    </tr>\n",
       "  </thead>\n",
       "  <tbody>\n",
       "    <tr>\n",
       "      <th>0</th>\n",
       "      <td>New York</td>\n",
       "      <td>14</td>\n",
       "      <td>2%</td>\n",
       "      <td>61%</td>\n",
       "      <td>맑음</td>\n",
       "    </tr>\n",
       "    <tr>\n",
       "      <th>1</th>\n",
       "      <td>Boston</td>\n",
       "      <td>12</td>\n",
       "      <td>2%</td>\n",
       "      <td>54%</td>\n",
       "      <td>맑음</td>\n",
       "    </tr>\n",
       "    <tr>\n",
       "      <th>2</th>\n",
       "      <td>Austin</td>\n",
       "      <td>21</td>\n",
       "      <td>15%</td>\n",
       "      <td>90%</td>\n",
       "      <td>흐림</td>\n",
       "    </tr>\n",
       "    <tr>\n",
       "      <th>3</th>\n",
       "      <td>Chicago</td>\n",
       "      <td>16</td>\n",
       "      <td>2%</td>\n",
       "      <td>68%</td>\n",
       "      <td>맑음</td>\n",
       "    </tr>\n",
       "    <tr>\n",
       "      <th>4</th>\n",
       "      <td>Denver</td>\n",
       "      <td>13</td>\n",
       "      <td>0%</td>\n",
       "      <td>19%</td>\n",
       "      <td>맑음</td>\n",
       "    </tr>\n",
       "    <tr>\n",
       "      <th>5</th>\n",
       "      <td>Portland</td>\n",
       "      <td>6</td>\n",
       "      <td>8%</td>\n",
       "      <td>87%</td>\n",
       "      <td>흐림</td>\n",
       "    </tr>\n",
       "    <tr>\n",
       "      <th>6</th>\n",
       "      <td>Los Angeles</td>\n",
       "      <td>13</td>\n",
       "      <td>0%</td>\n",
       "      <td>59%</td>\n",
       "      <td>맑음</td>\n",
       "    </tr>\n",
       "  </tbody>\n",
       "</table>\n",
       "</div>"
      ],
      "text/plain": [
       "      Location Temperature °C Precipitation Humidity Overall\n",
       "0     New York             14            2%      61%      맑음\n",
       "1       Boston             12            2%      54%      맑음\n",
       "2       Austin             21           15%      90%      흐림\n",
       "3      Chicago             16            2%      68%      맑음\n",
       "4       Denver             13            0%      19%      맑음\n",
       "5     Portland              6            8%      87%      흐림\n",
       "6  Los Angeles             13            0%      59%      맑음"
      ]
     },
     "execution_count": 3,
     "metadata": {},
     "output_type": "execute_result"
    }
   ],
   "source": [
    "dict = {'Location':CityName, 'Temperature °C': temp,'Precipitation':precipitation,'Humidity':humidity,'Overall':weather} #create dictionary\n",
    "df = pd.DataFrame(dict) # make dataframe from dictionary\n",
    "df"
   ]
  }
 ],
 "metadata": {
  "kernelspec": {
   "display_name": "Python 3.10.4 ('furence')",
   "language": "python",
   "name": "python3"
  },
  "language_info": {
   "codemirror_mode": {
    "name": "ipython",
    "version": 3
   },
   "file_extension": ".py",
   "mimetype": "text/x-python",
   "name": "python",
   "nbconvert_exporter": "python",
   "pygments_lexer": "ipython3",
   "version": "3.10.4"
  },
  "orig_nbformat": 4,
  "vscode": {
   "interpreter": {
    "hash": "7d94fa0fcb21934746f4e3c5dd084f69054e8185a531c60b8d7d578a3777375b"
   }
  }
 },
 "nbformat": 4,
 "nbformat_minor": 2
}
